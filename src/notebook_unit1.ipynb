{
 "cells": [
  {
   "cell_type": "markdown",
   "metadata": {},
   "source": [
    "**Sustainable Software Development, block course, March 2021**  \n",
    "*Scientific Software Center, Institute for Scientific Computing, Dr. Inga Ulusoy*\n",
    "\n",
    "# Analysis of the data\n",
    "\n",
    "Imagine you perform a \"measurement\" of some type and obtain \"scientific data\". You know what your data represents, but you have only a vague idea how different features in the data are connected, and what information you can extract from the data.\n",
    "\n",
    "You would start first with going through the data, making sure your data set is complete and that the result is reasonable. Imagine this already happened.\n",
    "\n",
    "In the next step, you would inspect your data more closely and try to identify structures. That is the step that we are focusing on in this unit.\n",
    "\n",
    "In the `data` folder, you will find several data files (`*.t` and `*.dat`). These are data files generated through some \"new approach\" that hasn't been used in your lab before. No previous analysis software exists, and you are going to establish a protocol for this \"new approach\" and \"publish your results\".\n",
    "\n",
    "The data can be grouped into two categories: \n",
    "1. data to be analyzed using statistical methods;\n",
    "2. data to be analyzed using numerical methods.\n",
    "\n",
    "In your hypothetical lab, you are an \"expert\" in one particular \"method\", and your co-worker is an \"expert\" in the other. Combined these two methods will lead to much more impactful results than if only one of you analyzed the data. Now, the task in this course is to be solved collaboratively with your team member working on one of the analysis approaches, and you working on the other. You will both implement functionality into the same piece of \"software\", but do so collaboratively through git.\n",
    "\n",
    "As you do not know yet which analysis is most meaningful for your data, and how to implement it, you will start with a jupyter notebook. You and your team member will work on the same notebook that will be part of a github repository for your project. This is the task for today. Discuss with your team members who will work on the statistical and who on the numerical analysis."
   ]
  },
  {
   "cell_type": "markdown",
   "metadata": {},
   "source": [
    "## Step 1\n",
    "\n",
    "Generate a github repository with the relevant files."
   ]
  },
  {
   "cell_type": "markdown",
   "metadata": {},
   "source": [
    "## Step 2\n",
    "\n",
    "Clone the repository to your local machine."
   ]
  },
  {
   "cell_type": "markdown",
   "metadata": {},
   "source": [
    "## Step 3\n",
    "\n",
    "Start working on task 1 for your analysis approach. "
   ]
  },
  {
   "cell_type": "markdown",
   "metadata": {},
   "source": [
    "## Step 4\n",
    "\n",
    "Create your own branch of the repository and commit your changes to your branch; push to the remote repository."
   ]
  },
  {
   "cell_type": "markdown",
   "metadata": {},
   "source": [
    "## Step 5\n",
    "\n",
    "Open a `pull request` so your team member can review your implementation. Likewise, your team member will ask you to review theirs."
   ]
  },
  {
   "cell_type": "markdown",
   "metadata": {},
   "source": [
    "## Step 6\n",
    "\n",
    "Merge the changes in your branch into `main`. Resolve conflicts."
   ]
  },
  {
   "cell_type": "markdown",
   "metadata": {},
   "source": [
    "## Step 7\n",
    "\n",
    "Repeat working on task; committing and pushing to your previously generated branch or a new branch; open a pull request; merge with main; until you have finished all the tasks in your analysis approach. Delete obsolete branches."
   ]
  },
  {
   "cell_type": "markdown",
   "metadata": {},
   "source": [
    "# Start of the analysis notebook\n",
    "\n",
    "**Author : Nguyen Quynh Nhu**  \n",
    "*Date : March 2022*  \n",
    "*Affiliation : University of Milan*  \n",
    "\n",
    "\n",
    "Place the required modules in the top, followed by required constants and global functions."
   ]
  },
  {
   "cell_type": "code",
   "execution_count": 38,
   "metadata": {},
   "outputs": [],
   "source": [
    "# required modules\n",
    "import numpy as np\n",
    "import matplotlib.pyplot as plt\n",
    "import pandas as pd\n",
    "import seaborn as sn"
   ]
  },
  {
   "cell_type": "code",
   "execution_count": 39,
   "metadata": {},
   "outputs": [],
   "source": [
    "# constants and global functions\n",
    "# a tuple containing the file names\n",
    "filenames = 'npop.t', 'efield.t', 'expec.t', 'table.dat', 'nstate_i.t'\n",
    "filedir = '../../data/' # if you run using jupyter\n",
    "# filedir = 'data/' # if you run using your IDE\n",
    "# variance threshold\n",
    "threshv = 1.0e-5"
   ]
  },
  {
   "cell_type": "code",
   "execution_count": 40,
   "metadata": {},
   "outputs": [],
   "source": [
    "# reading of the data files\n",
    "def read_in_df(filedir, filename):\n",
    "    name = '{}{}'.format(filedir, filename)\n",
    "    print('Reading from file {} - pandas'.format(name))\n",
    "    data = pd.read_csv(name, r'\\s+')\n",
    "    return data\n",
    "def read_in_np(filedir, filename):\n",
    "    name = '{}{}'.format(filedir, filename)\n",
    "    print('Reading from file {} - numpy'.format(name))\n",
    "    data = np.loadtxt(name, skiprows=1)\n",
    "    data = data.T\n",
    "    return data"
   ]
  },
  {
   "cell_type": "markdown",
   "metadata": {},
   "source": [
    "# Statistical analysis\n",
    "\n",
    "Find correlations in the data sets. Analyse the data statistically and plot your results.  \n",
    "\n",
    "Here we would want to do everything with pandas and leave the data in a dataframe. The files that are relevant to you are `expect.t`, `npop.t` and `table.dat`."
   ]
  },
  {
   "cell_type": "markdown",
   "metadata": {},
   "source": [
    "### Task 1: Read in expec.t and plot relevant data"
   ]
  },
  {
   "cell_type": "code",
   "execution_count": 41,
   "metadata": {},
   "outputs": [
    {
     "name": "stdout",
     "output_type": "stream",
     "text": [
      "Reading from file /Users/akko/Desktop/team7-test-repo/data/expec.t - pandas\n"
     ]
    },
    {
     "data": {
      "text/html": [
       "<div>\n",
       "<style scoped>\n",
       "    .dataframe tbody tr th:only-of-type {\n",
       "        vertical-align: middle;\n",
       "    }\n",
       "\n",
       "    .dataframe tbody tr th {\n",
       "        vertical-align: top;\n",
       "    }\n",
       "\n",
       "    .dataframe thead th {\n",
       "        text-align: right;\n",
       "    }\n",
       "</style>\n",
       "<table border=\"1\" class=\"dataframe\">\n",
       "  <thead>\n",
       "    <tr style=\"text-align: right;\">\n",
       "      <th></th>\n",
       "      <th>time</th>\n",
       "      <th>norm</th>\n",
       "      <th>&lt;x&gt;</th>\n",
       "      <th>&lt;y&gt;</th>\n",
       "      <th>&lt;z&gt;</th>\n",
       "      <th>&lt;H&gt;</th>\n",
       "    </tr>\n",
       "  </thead>\n",
       "  <tbody>\n",
       "    <tr>\n",
       "      <th>0</th>\n",
       "      <td>0.0</td>\n",
       "      <td>1.0</td>\n",
       "      <td>0.0</td>\n",
       "      <td>0.0</td>\n",
       "      <td>-2.19632</td>\n",
       "      <td>0.0</td>\n",
       "    </tr>\n",
       "    <tr>\n",
       "      <th>1</th>\n",
       "      <td>0.1</td>\n",
       "      <td>1.0</td>\n",
       "      <td>0.0</td>\n",
       "      <td>0.0</td>\n",
       "      <td>-2.19632</td>\n",
       "      <td>0.0</td>\n",
       "    </tr>\n",
       "    <tr>\n",
       "      <th>2</th>\n",
       "      <td>0.2</td>\n",
       "      <td>1.0</td>\n",
       "      <td>-0.0</td>\n",
       "      <td>0.0</td>\n",
       "      <td>-2.19632</td>\n",
       "      <td>0.0</td>\n",
       "    </tr>\n",
       "    <tr>\n",
       "      <th>3</th>\n",
       "      <td>0.3</td>\n",
       "      <td>1.0</td>\n",
       "      <td>-0.0</td>\n",
       "      <td>0.0</td>\n",
       "      <td>-2.19632</td>\n",
       "      <td>0.0</td>\n",
       "    </tr>\n",
       "    <tr>\n",
       "      <th>4</th>\n",
       "      <td>0.4</td>\n",
       "      <td>1.0</td>\n",
       "      <td>-0.0</td>\n",
       "      <td>0.0</td>\n",
       "      <td>-2.19632</td>\n",
       "      <td>0.0</td>\n",
       "    </tr>\n",
       "    <tr>\n",
       "      <th>5</th>\n",
       "      <td>0.5</td>\n",
       "      <td>1.0</td>\n",
       "      <td>-0.0</td>\n",
       "      <td>0.0</td>\n",
       "      <td>-2.19632</td>\n",
       "      <td>0.0</td>\n",
       "    </tr>\n",
       "    <tr>\n",
       "      <th>6</th>\n",
       "      <td>0.6</td>\n",
       "      <td>1.0</td>\n",
       "      <td>0.0</td>\n",
       "      <td>-0.0</td>\n",
       "      <td>-2.19632</td>\n",
       "      <td>0.0</td>\n",
       "    </tr>\n",
       "    <tr>\n",
       "      <th>7</th>\n",
       "      <td>0.7</td>\n",
       "      <td>1.0</td>\n",
       "      <td>-0.0</td>\n",
       "      <td>-0.0</td>\n",
       "      <td>-2.19632</td>\n",
       "      <td>0.0</td>\n",
       "    </tr>\n",
       "    <tr>\n",
       "      <th>8</th>\n",
       "      <td>0.8</td>\n",
       "      <td>1.0</td>\n",
       "      <td>-0.0</td>\n",
       "      <td>-0.0</td>\n",
       "      <td>-2.19632</td>\n",
       "      <td>0.0</td>\n",
       "    </tr>\n",
       "    <tr>\n",
       "      <th>9</th>\n",
       "      <td>0.9</td>\n",
       "      <td>1.0</td>\n",
       "      <td>-0.0</td>\n",
       "      <td>-0.0</td>\n",
       "      <td>-2.19632</td>\n",
       "      <td>0.0</td>\n",
       "    </tr>\n",
       "  </tbody>\n",
       "</table>\n",
       "</div>"
      ],
      "text/plain": [
       "   time  norm  <x>  <y>      <z>  <H>\n",
       "0   0.0   1.0  0.0  0.0 -2.19632  0.0\n",
       "1   0.1   1.0  0.0  0.0 -2.19632  0.0\n",
       "2   0.2   1.0 -0.0  0.0 -2.19632  0.0\n",
       "3   0.3   1.0 -0.0  0.0 -2.19632  0.0\n",
       "4   0.4   1.0 -0.0  0.0 -2.19632  0.0\n",
       "5   0.5   1.0 -0.0  0.0 -2.19632  0.0\n",
       "6   0.6   1.0  0.0 -0.0 -2.19632  0.0\n",
       "7   0.7   1.0 -0.0 -0.0 -2.19632  0.0\n",
       "8   0.8   1.0 -0.0 -0.0 -2.19632  0.0\n",
       "9   0.9   1.0 -0.0 -0.0 -2.19632  0.0"
      ]
     },
     "execution_count": 41,
     "metadata": {},
     "output_type": "execute_result"
    }
   ],
   "source": [
    "# read and plot expec.t\n",
    "#df_expec = read_in_df('/Users/nguyenquynhnhu/Desktop/sustainable_development_course/unit1/my-test-repo/data/', 'expec.t')\n",
    "df_expec = read_in_df('/Users/akko/Desktop/team7-test-repo/data/', 'expec.t')\n",
    "df_expec.head(10)\n",
    "\n"
   ]
  },
  {
   "cell_type": "markdown",
   "metadata": {},
   "source": [
    "We can discard the entries norm, \\<x>, and \\<y> as these are mostly constant."
   ]
  },
  {
   "cell_type": "code",
   "execution_count": 42,
   "metadata": {},
   "outputs": [
    {
     "data": {
      "image/png": "[encoded data removed]",
      "text/plain": [
       "<Figure size 360x360 with 1 Axes>"
      ]
     },
     "metadata": {
      "needs_background": "light"
     },
     "output_type": "display_data"
    }
   ],
   "source": [
    "# eliminate columns based on the variance: if the variance of the values\n",
    "# in a column is below a given threshold, that column is discarded\n",
    "sn.relplot(data=df_expec, kind='line', x='time', y='<z>')\n",
    "plt.show()\n"
   ]
  },
  {
   "cell_type": "code",
   "execution_count": 43,
   "metadata": {},
   "outputs": [
    {
     "data": {
      "image/png": "[encoded data removed]",
      "text/plain": [
       "<Figure size 1080x1080 with 27 Axes>"
      ]
     },
     "metadata": {
      "needs_background": "light"
     },
     "output_type": "display_data"
    }
   ],
   "source": [
    "sn.pairplot(df_expec, corner=True)\n",
    "plt.show()"
   ]
  },
  {
   "cell_type": "code",
   "execution_count": 44,
   "metadata": {},
   "outputs": [
    {
     "data": {
      "text/html": [
       "<div>\n",
       "<style scoped>\n",
       "    .dataframe tbody tr th:only-of-type {\n",
       "        vertical-align: middle;\n",
       "    }\n",
       "\n",
       "    .dataframe tbody tr th {\n",
       "        vertical-align: top;\n",
       "    }\n",
       "\n",
       "    .dataframe thead th {\n",
       "        text-align: right;\n",
       "    }\n",
       "</style>\n",
       "<table border=\"1\" class=\"dataframe\">\n",
       "  <thead>\n",
       "    <tr style=\"text-align: right;\">\n",
       "      <th></th>\n",
       "      <th>time</th>\n",
       "      <th>&lt;z&gt;</th>\n",
       "      <th>&lt;H&gt;</th>\n",
       "    </tr>\n",
       "  </thead>\n",
       "  <tbody>\n",
       "    <tr>\n",
       "      <th>0</th>\n",
       "      <td>0.0</td>\n",
       "      <td>-2.196320</td>\n",
       "      <td>0.000000</td>\n",
       "    </tr>\n",
       "    <tr>\n",
       "      <th>1</th>\n",
       "      <td>0.1</td>\n",
       "      <td>-2.196320</td>\n",
       "      <td>0.000000</td>\n",
       "    </tr>\n",
       "    <tr>\n",
       "      <th>2</th>\n",
       "      <td>0.2</td>\n",
       "      <td>-2.196320</td>\n",
       "      <td>0.000000</td>\n",
       "    </tr>\n",
       "    <tr>\n",
       "      <th>3</th>\n",
       "      <td>0.3</td>\n",
       "      <td>-2.196320</td>\n",
       "      <td>0.000000</td>\n",
       "    </tr>\n",
       "    <tr>\n",
       "      <th>4</th>\n",
       "      <td>0.4</td>\n",
       "      <td>-2.196320</td>\n",
       "      <td>0.000000</td>\n",
       "    </tr>\n",
       "    <tr>\n",
       "      <th>...</th>\n",
       "      <td>...</td>\n",
       "      <td>...</td>\n",
       "      <td>...</td>\n",
       "    </tr>\n",
       "    <tr>\n",
       "      <th>96</th>\n",
       "      <td>9.6</td>\n",
       "      <td>-2.012171</td>\n",
       "      <td>0.032949</td>\n",
       "    </tr>\n",
       "    <tr>\n",
       "      <th>97</th>\n",
       "      <td>9.7</td>\n",
       "      <td>-1.441347</td>\n",
       "      <td>0.032949</td>\n",
       "    </tr>\n",
       "    <tr>\n",
       "      <th>98</th>\n",
       "      <td>9.8</td>\n",
       "      <td>-0.982419</td>\n",
       "      <td>0.032949</td>\n",
       "    </tr>\n",
       "    <tr>\n",
       "      <th>99</th>\n",
       "      <td>9.9</td>\n",
       "      <td>-0.759304</td>\n",
       "      <td>0.032949</td>\n",
       "    </tr>\n",
       "    <tr>\n",
       "      <th>100</th>\n",
       "      <td>10.0</td>\n",
       "      <td>-0.629835</td>\n",
       "      <td>0.032949</td>\n",
       "    </tr>\n",
       "  </tbody>\n",
       "</table>\n",
       "<p>101 rows × 3 columns</p>\n",
       "</div>"
      ],
      "text/plain": [
       "     time       <z>       <H>\n",
       "0     0.0 -2.196320  0.000000\n",
       "1     0.1 -2.196320  0.000000\n",
       "2     0.2 -2.196320  0.000000\n",
       "3     0.3 -2.196320  0.000000\n",
       "4     0.4 -2.196320  0.000000\n",
       "..    ...       ...       ...\n",
       "96    9.6 -2.012171  0.032949\n",
       "97    9.7 -1.441347  0.032949\n",
       "98    9.8 -0.982419  0.032949\n",
       "99    9.9 -0.759304  0.032949\n",
       "100  10.0 -0.629835  0.032949\n",
       "\n",
       "[101 rows x 3 columns]"
      ]
     },
     "execution_count": 44,
     "metadata": {},
     "output_type": "execute_result"
    }
   ],
   "source": [
    "df_expec.drop(['norm', '<x>', '<y>'], axis=1)"
   ]
  },
  {
   "cell_type": "code",
   "execution_count": 45,
   "metadata": {},
   "outputs": [
    {
     "data": {
      "text/plain": [
       "time    8.585000e+00\n",
       "norm    3.908074e-25\n",
       "<x>     0.000000e+00\n",
       "<y>     1.960396e-28\n",
       "<z>     2.461813e-01\n",
       "<H>     1.840395e-04\n",
       "dtype: float64"
      ]
     },
     "execution_count": 45,
     "metadata": {},
     "output_type": "execute_result"
    }
   ],
   "source": [
    "df_expec.var()\n"
   ]
  },
  {
   "cell_type": "code",
   "execution_count": 46,
   "metadata": {},
   "outputs": [
    {
     "data": {
      "text/html": [
       "<div>\n",
       "<style scoped>\n",
       "    .dataframe tbody tr th:only-of-type {\n",
       "        vertical-align: middle;\n",
       "    }\n",
       "\n",
       "    .dataframe tbody tr th {\n",
       "        vertical-align: top;\n",
       "    }\n",
       "\n",
       "    .dataframe thead th {\n",
       "        text-align: right;\n",
       "    }\n",
       "</style>\n",
       "<table border=\"1\" class=\"dataframe\">\n",
       "  <thead>\n",
       "    <tr style=\"text-align: right;\">\n",
       "      <th></th>\n",
       "      <th>time</th>\n",
       "      <th>&lt;z&gt;</th>\n",
       "      <th>&lt;H&gt;</th>\n",
       "    </tr>\n",
       "  </thead>\n",
       "  <tbody>\n",
       "    <tr>\n",
       "      <th>0</th>\n",
       "      <td>0.0</td>\n",
       "      <td>-2.196320</td>\n",
       "      <td>0.000000</td>\n",
       "    </tr>\n",
       "    <tr>\n",
       "      <th>1</th>\n",
       "      <td>0.1</td>\n",
       "      <td>-2.196320</td>\n",
       "      <td>0.000000</td>\n",
       "    </tr>\n",
       "    <tr>\n",
       "      <th>2</th>\n",
       "      <td>0.2</td>\n",
       "      <td>-2.196320</td>\n",
       "      <td>0.000000</td>\n",
       "    </tr>\n",
       "    <tr>\n",
       "      <th>3</th>\n",
       "      <td>0.3</td>\n",
       "      <td>-2.196320</td>\n",
       "      <td>0.000000</td>\n",
       "    </tr>\n",
       "    <tr>\n",
       "      <th>4</th>\n",
       "      <td>0.4</td>\n",
       "      <td>-2.196320</td>\n",
       "      <td>0.000000</td>\n",
       "    </tr>\n",
       "    <tr>\n",
       "      <th>...</th>\n",
       "      <td>...</td>\n",
       "      <td>...</td>\n",
       "      <td>...</td>\n",
       "    </tr>\n",
       "    <tr>\n",
       "      <th>96</th>\n",
       "      <td>9.6</td>\n",
       "      <td>-2.012171</td>\n",
       "      <td>0.032949</td>\n",
       "    </tr>\n",
       "    <tr>\n",
       "      <th>97</th>\n",
       "      <td>9.7</td>\n",
       "      <td>-1.441347</td>\n",
       "      <td>0.032949</td>\n",
       "    </tr>\n",
       "    <tr>\n",
       "      <th>98</th>\n",
       "      <td>9.8</td>\n",
       "      <td>-0.982419</td>\n",
       "      <td>0.032949</td>\n",
       "    </tr>\n",
       "    <tr>\n",
       "      <th>99</th>\n",
       "      <td>9.9</td>\n",
       "      <td>-0.759304</td>\n",
       "      <td>0.032949</td>\n",
       "    </tr>\n",
       "    <tr>\n",
       "      <th>100</th>\n",
       "      <td>10.0</td>\n",
       "      <td>-0.629835</td>\n",
       "      <td>0.032949</td>\n",
       "    </tr>\n",
       "  </tbody>\n",
       "</table>\n",
       "<p>101 rows × 3 columns</p>\n",
       "</div>"
      ],
      "text/plain": [
       "     time       <z>       <H>\n",
       "0     0.0 -2.196320  0.000000\n",
       "1     0.1 -2.196320  0.000000\n",
       "2     0.2 -2.196320  0.000000\n",
       "3     0.3 -2.196320  0.000000\n",
       "4     0.4 -2.196320  0.000000\n",
       "..    ...       ...       ...\n",
       "96    9.6 -2.012171  0.032949\n",
       "97    9.7 -1.441347  0.032949\n",
       "98    9.8 -0.982419  0.032949\n",
       "99    9.9 -0.759304  0.032949\n",
       "100  10.0 -0.629835  0.032949\n",
       "\n",
       "[101 rows x 3 columns]"
      ]
     },
     "execution_count": 46,
     "metadata": {},
     "output_type": "execute_result"
    }
   ],
   "source": [
    "# df_expec.drop(df_expec.var()[df_expec.var()<threshv].index.values, axis=1)\n",
    "# print(df_expec.var()<threshv) # this will return columns with variance below the threshold\n",
    "# df_expec.var()[df_expec.var()<threshv].index # this will return the index of those columns \n",
    "# df_expec.var()[df_expec.var()<threshv].index.values # this will return the index of those columns in an array\n",
    "# df_expec.drop(df_expec.var()[df_expec.var()<threshv].index.values) # we want to drop those columns\n",
    "df_expec.drop(df_expec.var()[df_expec.var()<threshv].index.values, axis=1) # but we have to pick the right axis (columns, not rows)"
   ]
  },
  {
   "cell_type": "code",
   "execution_count": 47,
   "metadata": {},
   "outputs": [],
   "source": [
    "def check_if_significant(data, thresh):\n",
    "    data_out = data.drop(data.var()[data.var()<thresh].index.values, axis=1)\n",
    "    indices = data.var()[data.var() > thresh].index.values\n",
    "    return data_out, indices\n"
   ]
  },
  {
   "cell_type": "code",
   "execution_count": 48,
   "metadata": {},
   "outputs": [
    {
     "data": {
      "text/html": [
       "<div>\n",
       "<style scoped>\n",
       "    .dataframe tbody tr th:only-of-type {\n",
       "        vertical-align: middle;\n",
       "    }\n",
       "\n",
       "    .dataframe tbody tr th {\n",
       "        vertical-align: top;\n",
       "    }\n",
       "\n",
       "    .dataframe thead th {\n",
       "        text-align: right;\n",
       "    }\n",
       "</style>\n",
       "<table border=\"1\" class=\"dataframe\">\n",
       "  <thead>\n",
       "    <tr style=\"text-align: right;\">\n",
       "      <th></th>\n",
       "      <th>time</th>\n",
       "      <th>&lt;z&gt;</th>\n",
       "      <th>&lt;H&gt;</th>\n",
       "    </tr>\n",
       "  </thead>\n",
       "  <tbody>\n",
       "    <tr>\n",
       "      <th>0</th>\n",
       "      <td>0.0</td>\n",
       "      <td>-2.19632</td>\n",
       "      <td>0.0</td>\n",
       "    </tr>\n",
       "    <tr>\n",
       "      <th>1</th>\n",
       "      <td>0.1</td>\n",
       "      <td>-2.19632</td>\n",
       "      <td>0.0</td>\n",
       "    </tr>\n",
       "    <tr>\n",
       "      <th>2</th>\n",
       "      <td>0.2</td>\n",
       "      <td>-2.19632</td>\n",
       "      <td>0.0</td>\n",
       "    </tr>\n",
       "    <tr>\n",
       "      <th>3</th>\n",
       "      <td>0.3</td>\n",
       "      <td>-2.19632</td>\n",
       "      <td>0.0</td>\n",
       "    </tr>\n",
       "    <tr>\n",
       "      <th>4</th>\n",
       "      <td>0.4</td>\n",
       "      <td>-2.19632</td>\n",
       "      <td>0.0</td>\n",
       "    </tr>\n",
       "  </tbody>\n",
       "</table>\n",
       "</div>"
      ],
      "text/plain": [
       "   time      <z>  <H>\n",
       "0   0.0 -2.19632  0.0\n",
       "1   0.1 -2.19632  0.0\n",
       "2   0.2 -2.19632  0.0\n",
       "3   0.3 -2.19632  0.0\n",
       "4   0.4 -2.19632  0.0"
      ]
     },
     "metadata": {},
     "output_type": "display_data"
    },
    {
     "name": "stdout",
     "output_type": "stream",
     "text": [
      "['time' '<z>' '<H>']\n"
     ]
    }
   ],
   "source": [
    "df_expec2, indices = check_if_significant(df_expec, threshv)\n",
    "display(df_expec2.head())\n",
    "print(indices)"
   ]
  },
  {
   "cell_type": "markdown",
   "metadata": {},
   "source": [
    "### Task 2: Create plots of the relevant data and save as .pdf."
   ]
  },
  {
   "cell_type": "code",
   "execution_count": 49,
   "metadata": {},
   "outputs": [
    {
     "data": {
      "image/png": "[encoded data removed]",
      "text/plain": [
       "<Figure size 360x360 with 1 Axes>"
      ]
     },
     "metadata": {
      "needs_background": "light"
     },
     "output_type": "display_data"
    }
   ],
   "source": [
    "# create plots\n",
    "f1=sn.relplot(data=df_expec, kind='line', x='time', y='<z>')\n",
    "plt.show()\n"
   ]
  },
  {
   "cell_type": "code",
   "execution_count": 50,
   "metadata": {},
   "outputs": [],
   "source": [
    "# save as .pdf\n",
    "\n",
    "f1.savefig('plot.pdf')"
   ]
  },
  {
   "cell_type": "markdown",
   "metadata": {},
   "source": [
    "### Task 3: Read in file `npop.t` and analyze correlations in the data"
   ]
  },
  {
   "cell_type": "code",
   "execution_count": 51,
   "metadata": {},
   "outputs": [
    {
     "name": "stdout",
     "output_type": "stream",
     "text": [
      "Reading from file /Users/akko/Desktop/team7-test-repo/data/npop.t - pandas\n"
     ]
    },
    {
     "data": {
      "text/html": [
       "<div>\n",
       "<style scoped>\n",
       "    .dataframe tbody tr th:only-of-type {\n",
       "        vertical-align: middle;\n",
       "    }\n",
       "\n",
       "    .dataframe tbody tr th {\n",
       "        vertical-align: top;\n",
       "    }\n",
       "\n",
       "    .dataframe thead th {\n",
       "        text-align: right;\n",
       "    }\n",
       "</style>\n",
       "<table border=\"1\" class=\"dataframe\">\n",
       "  <thead>\n",
       "    <tr style=\"text-align: right;\">\n",
       "      <th></th>\n",
       "      <th>time</th>\n",
       "      <th>MO1</th>\n",
       "      <th>MO2</th>\n",
       "      <th>MO3</th>\n",
       "      <th>MO4</th>\n",
       "      <th>MO5</th>\n",
       "      <th>MO6</th>\n",
       "      <th>MO7</th>\n",
       "      <th>MO8</th>\n",
       "      <th>MO9</th>\n",
       "      <th>...</th>\n",
       "      <th>MO29</th>\n",
       "      <th>MO30</th>\n",
       "      <th>MO31</th>\n",
       "      <th>MO32</th>\n",
       "      <th>MO33</th>\n",
       "      <th>MO34</th>\n",
       "      <th>MO35</th>\n",
       "      <th>MO36</th>\n",
       "      <th>MO37</th>\n",
       "      <th>MO38</th>\n",
       "    </tr>\n",
       "  </thead>\n",
       "  <tbody>\n",
       "    <tr>\n",
       "      <th>0</th>\n",
       "      <td>0.0</td>\n",
       "      <td>0.999974</td>\n",
       "      <td>0.999892</td>\n",
       "      <td>0.976819</td>\n",
       "      <td>0.97633</td>\n",
       "      <td>0.000708</td>\n",
       "      <td>0.005711</td>\n",
       "      <td>0.000158</td>\n",
       "      <td>0.00092</td>\n",
       "      <td>0.000158</td>\n",
       "      <td>...</td>\n",
       "      <td>0.000815</td>\n",
       "      <td>0.000514</td>\n",
       "      <td>0.004893</td>\n",
       "      <td>0.001388</td>\n",
       "      <td>0.000469</td>\n",
       "      <td>0.000193</td>\n",
       "      <td>0.000469</td>\n",
       "      <td>0.000193</td>\n",
       "      <td>0.000401</td>\n",
       "      <td>0.000128</td>\n",
       "    </tr>\n",
       "    <tr>\n",
       "      <th>1</th>\n",
       "      <td>0.1</td>\n",
       "      <td>0.999974</td>\n",
       "      <td>0.999892</td>\n",
       "      <td>0.976819</td>\n",
       "      <td>0.97633</td>\n",
       "      <td>0.000708</td>\n",
       "      <td>0.005711</td>\n",
       "      <td>0.000158</td>\n",
       "      <td>0.00092</td>\n",
       "      <td>0.000158</td>\n",
       "      <td>...</td>\n",
       "      <td>0.000815</td>\n",
       "      <td>0.000514</td>\n",
       "      <td>0.004893</td>\n",
       "      <td>0.001388</td>\n",
       "      <td>0.000469</td>\n",
       "      <td>0.000193</td>\n",
       "      <td>0.000469</td>\n",
       "      <td>0.000193</td>\n",
       "      <td>0.000401</td>\n",
       "      <td>0.000128</td>\n",
       "    </tr>\n",
       "    <tr>\n",
       "      <th>2</th>\n",
       "      <td>0.2</td>\n",
       "      <td>0.999974</td>\n",
       "      <td>0.999892</td>\n",
       "      <td>0.976819</td>\n",
       "      <td>0.97633</td>\n",
       "      <td>0.000708</td>\n",
       "      <td>0.005711</td>\n",
       "      <td>0.000158</td>\n",
       "      <td>0.00092</td>\n",
       "      <td>0.000158</td>\n",
       "      <td>...</td>\n",
       "      <td>0.000815</td>\n",
       "      <td>0.000514</td>\n",
       "      <td>0.004893</td>\n",
       "      <td>0.001388</td>\n",
       "      <td>0.000469</td>\n",
       "      <td>0.000193</td>\n",
       "      <td>0.000469</td>\n",
       "      <td>0.000193</td>\n",
       "      <td>0.000401</td>\n",
       "      <td>0.000128</td>\n",
       "    </tr>\n",
       "    <tr>\n",
       "      <th>3</th>\n",
       "      <td>0.3</td>\n",
       "      <td>0.999974</td>\n",
       "      <td>0.999892</td>\n",
       "      <td>0.976819</td>\n",
       "      <td>0.97633</td>\n",
       "      <td>0.000708</td>\n",
       "      <td>0.005711</td>\n",
       "      <td>0.000158</td>\n",
       "      <td>0.00092</td>\n",
       "      <td>0.000158</td>\n",
       "      <td>...</td>\n",
       "      <td>0.000815</td>\n",
       "      <td>0.000514</td>\n",
       "      <td>0.004893</td>\n",
       "      <td>0.001388</td>\n",
       "      <td>0.000469</td>\n",
       "      <td>0.000193</td>\n",
       "      <td>0.000469</td>\n",
       "      <td>0.000193</td>\n",
       "      <td>0.000401</td>\n",
       "      <td>0.000128</td>\n",
       "    </tr>\n",
       "    <tr>\n",
       "      <th>4</th>\n",
       "      <td>0.4</td>\n",
       "      <td>0.999974</td>\n",
       "      <td>0.999892</td>\n",
       "      <td>0.976819</td>\n",
       "      <td>0.97633</td>\n",
       "      <td>0.000708</td>\n",
       "      <td>0.005711</td>\n",
       "      <td>0.000158</td>\n",
       "      <td>0.00092</td>\n",
       "      <td>0.000158</td>\n",
       "      <td>...</td>\n",
       "      <td>0.000815</td>\n",
       "      <td>0.000514</td>\n",
       "      <td>0.004893</td>\n",
       "      <td>0.001388</td>\n",
       "      <td>0.000469</td>\n",
       "      <td>0.000193</td>\n",
       "      <td>0.000469</td>\n",
       "      <td>0.000193</td>\n",
       "      <td>0.000401</td>\n",
       "      <td>0.000128</td>\n",
       "    </tr>\n",
       "    <tr>\n",
       "      <th>5</th>\n",
       "      <td>0.5</td>\n",
       "      <td>0.999974</td>\n",
       "      <td>0.999892</td>\n",
       "      <td>0.976819</td>\n",
       "      <td>0.97633</td>\n",
       "      <td>0.000708</td>\n",
       "      <td>0.005711</td>\n",
       "      <td>0.000158</td>\n",
       "      <td>0.00092</td>\n",
       "      <td>0.000158</td>\n",
       "      <td>...</td>\n",
       "      <td>0.000815</td>\n",
       "      <td>0.000514</td>\n",
       "      <td>0.004893</td>\n",
       "      <td>0.001388</td>\n",
       "      <td>0.000469</td>\n",
       "      <td>0.000193</td>\n",
       "      <td>0.000469</td>\n",
       "      <td>0.000193</td>\n",
       "      <td>0.000401</td>\n",
       "      <td>0.000128</td>\n",
       "    </tr>\n",
       "    <tr>\n",
       "      <th>6</th>\n",
       "      <td>0.6</td>\n",
       "      <td>0.999974</td>\n",
       "      <td>0.999892</td>\n",
       "      <td>0.976819</td>\n",
       "      <td>0.97633</td>\n",
       "      <td>0.000708</td>\n",
       "      <td>0.005711</td>\n",
       "      <td>0.000158</td>\n",
       "      <td>0.00092</td>\n",
       "      <td>0.000158</td>\n",
       "      <td>...</td>\n",
       "      <td>0.000815</td>\n",
       "      <td>0.000514</td>\n",
       "      <td>0.004893</td>\n",
       "      <td>0.001388</td>\n",
       "      <td>0.000469</td>\n",
       "      <td>0.000193</td>\n",
       "      <td>0.000469</td>\n",
       "      <td>0.000193</td>\n",
       "      <td>0.000401</td>\n",
       "      <td>0.000128</td>\n",
       "    </tr>\n",
       "    <tr>\n",
       "      <th>7</th>\n",
       "      <td>0.7</td>\n",
       "      <td>0.999974</td>\n",
       "      <td>0.999892</td>\n",
       "      <td>0.976819</td>\n",
       "      <td>0.97633</td>\n",
       "      <td>0.000708</td>\n",
       "      <td>0.005711</td>\n",
       "      <td>0.000158</td>\n",
       "      <td>0.00092</td>\n",
       "      <td>0.000158</td>\n",
       "      <td>...</td>\n",
       "      <td>0.000815</td>\n",
       "      <td>0.000514</td>\n",
       "      <td>0.004893</td>\n",
       "      <td>0.001388</td>\n",
       "      <td>0.000469</td>\n",
       "      <td>0.000193</td>\n",
       "      <td>0.000469</td>\n",
       "      <td>0.000193</td>\n",
       "      <td>0.000401</td>\n",
       "      <td>0.000128</td>\n",
       "    </tr>\n",
       "    <tr>\n",
       "      <th>8</th>\n",
       "      <td>0.8</td>\n",
       "      <td>0.999974</td>\n",
       "      <td>0.999892</td>\n",
       "      <td>0.976819</td>\n",
       "      <td>0.97633</td>\n",
       "      <td>0.000708</td>\n",
       "      <td>0.005711</td>\n",
       "      <td>0.000158</td>\n",
       "      <td>0.00092</td>\n",
       "      <td>0.000158</td>\n",
       "      <td>...</td>\n",
       "      <td>0.000815</td>\n",
       "      <td>0.000514</td>\n",
       "      <td>0.004893</td>\n",
       "      <td>0.001388</td>\n",
       "      <td>0.000469</td>\n",
       "      <td>0.000193</td>\n",
       "      <td>0.000469</td>\n",
       "      <td>0.000193</td>\n",
       "      <td>0.000401</td>\n",
       "      <td>0.000128</td>\n",
       "    </tr>\n",
       "    <tr>\n",
       "      <th>9</th>\n",
       "      <td>0.9</td>\n",
       "      <td>0.999974</td>\n",
       "      <td>0.999892</td>\n",
       "      <td>0.976819</td>\n",
       "      <td>0.97633</td>\n",
       "      <td>0.000708</td>\n",
       "      <td>0.005711</td>\n",
       "      <td>0.000158</td>\n",
       "      <td>0.00092</td>\n",
       "      <td>0.000158</td>\n",
       "      <td>...</td>\n",
       "      <td>0.000815</td>\n",
       "      <td>0.000514</td>\n",
       "      <td>0.004893</td>\n",
       "      <td>0.001388</td>\n",
       "      <td>0.000469</td>\n",
       "      <td>0.000193</td>\n",
       "      <td>0.000469</td>\n",
       "      <td>0.000193</td>\n",
       "      <td>0.000401</td>\n",
       "      <td>0.000128</td>\n",
       "    </tr>\n",
       "  </tbody>\n",
       "</table>\n",
       "<p>10 rows × 39 columns</p>\n",
       "</div>"
      ],
      "text/plain": [
       "   time       MO1       MO2       MO3      MO4       MO5       MO6       MO7  \\\n",
       "0   0.0  0.999974  0.999892  0.976819  0.97633  0.000708  0.005711  0.000158   \n",
       "1   0.1  0.999974  0.999892  0.976819  0.97633  0.000708  0.005711  0.000158   \n",
       "2   0.2  0.999974  0.999892  0.976819  0.97633  0.000708  0.005711  0.000158   \n",
       "3   0.3  0.999974  0.999892  0.976819  0.97633  0.000708  0.005711  0.000158   \n",
       "4   0.4  0.999974  0.999892  0.976819  0.97633  0.000708  0.005711  0.000158   \n",
       "5   0.5  0.999974  0.999892  0.976819  0.97633  0.000708  0.005711  0.000158   \n",
       "6   0.6  0.999974  0.999892  0.976819  0.97633  0.000708  0.005711  0.000158   \n",
       "7   0.7  0.999974  0.999892  0.976819  0.97633  0.000708  0.005711  0.000158   \n",
       "8   0.8  0.999974  0.999892  0.976819  0.97633  0.000708  0.005711  0.000158   \n",
       "9   0.9  0.999974  0.999892  0.976819  0.97633  0.000708  0.005711  0.000158   \n",
       "\n",
       "       MO8       MO9  ...      MO29      MO30      MO31      MO32      MO33  \\\n",
       "0  0.00092  0.000158  ...  0.000815  0.000514  0.004893  0.001388  0.000469   \n",
       "1  0.00092  0.000158  ...  0.000815  0.000514  0.004893  0.001388  0.000469   \n",
       "2  0.00092  0.000158  ...  0.000815  0.000514  0.004893  0.001388  0.000469   \n",
       "3  0.00092  0.000158  ...  0.000815  0.000514  0.004893  0.001388  0.000469   \n",
       "4  0.00092  0.000158  ...  0.000815  0.000514  0.004893  0.001388  0.000469   \n",
       "5  0.00092  0.000158  ...  0.000815  0.000514  0.004893  0.001388  0.000469   \n",
       "6  0.00092  0.000158  ...  0.000815  0.000514  0.004893  0.001388  0.000469   \n",
       "7  0.00092  0.000158  ...  0.000815  0.000514  0.004893  0.001388  0.000469   \n",
       "8  0.00092  0.000158  ...  0.000815  0.000514  0.004893  0.001388  0.000469   \n",
       "9  0.00092  0.000158  ...  0.000815  0.000514  0.004893  0.001388  0.000469   \n",
       "\n",
       "       MO34      MO35      MO36      MO37      MO38  \n",
       "0  0.000193  0.000469  0.000193  0.000401  0.000128  \n",
       "1  0.000193  0.000469  0.000193  0.000401  0.000128  \n",
       "2  0.000193  0.000469  0.000193  0.000401  0.000128  \n",
       "3  0.000193  0.000469  0.000193  0.000401  0.000128  \n",
       "4  0.000193  0.000469  0.000193  0.000401  0.000128  \n",
       "5  0.000193  0.000469  0.000193  0.000401  0.000128  \n",
       "6  0.000193  0.000469  0.000193  0.000401  0.000128  \n",
       "7  0.000193  0.000469  0.000193  0.000401  0.000128  \n",
       "8  0.000193  0.000469  0.000193  0.000401  0.000128  \n",
       "9  0.000193  0.000469  0.000193  0.000401  0.000128  \n",
       "\n",
       "[10 rows x 39 columns]"
      ]
     },
     "execution_count": 51,
     "metadata": {},
     "output_type": "execute_result"
    }
   ],
   "source": [
    " # read in npop.t\n",
    "#df_npop = read_in_df('/Users/nguyenquynhnhu/Desktop/sustainable_development_course/unit1/my-test-repo/data/', 'npop.t')\n",
    "df_npop = read_in_df('/Users/akko/Desktop/team7-test-repo/data/', 'npop.t')\n",
    "df_npop.head(10)"
   ]
  },
  {
   "cell_type": "code",
   "execution_count": 52,
   "metadata": {},
   "outputs": [
    {
     "data": {
      "text/html": [
       "<div>\n",
       "<style scoped>\n",
       "    .dataframe tbody tr th:only-of-type {\n",
       "        vertical-align: middle;\n",
       "    }\n",
       "\n",
       "    .dataframe tbody tr th {\n",
       "        vertical-align: top;\n",
       "    }\n",
       "\n",
       "    .dataframe thead th {\n",
       "        text-align: right;\n",
       "    }\n",
       "</style>\n",
       "<table border=\"1\" class=\"dataframe\">\n",
       "  <thead>\n",
       "    <tr style=\"text-align: right;\">\n",
       "      <th></th>\n",
       "      <th>time</th>\n",
       "      <th>MO3</th>\n",
       "      <th>MO4</th>\n",
       "      <th>MO6</th>\n",
       "      <th>MO11</th>\n",
       "      <th>MO12</th>\n",
       "      <th>MO14</th>\n",
       "    </tr>\n",
       "  </thead>\n",
       "  <tbody>\n",
       "    <tr>\n",
       "      <th>0</th>\n",
       "      <td>0.0</td>\n",
       "      <td>0.976819</td>\n",
       "      <td>0.97633</td>\n",
       "      <td>0.005711</td>\n",
       "      <td>0.004568</td>\n",
       "      <td>0.006659</td>\n",
       "      <td>0.000107</td>\n",
       "    </tr>\n",
       "    <tr>\n",
       "      <th>1</th>\n",
       "      <td>0.1</td>\n",
       "      <td>0.976819</td>\n",
       "      <td>0.97633</td>\n",
       "      <td>0.005711</td>\n",
       "      <td>0.004568</td>\n",
       "      <td>0.006659</td>\n",
       "      <td>0.000107</td>\n",
       "    </tr>\n",
       "    <tr>\n",
       "      <th>2</th>\n",
       "      <td>0.2</td>\n",
       "      <td>0.976819</td>\n",
       "      <td>0.97633</td>\n",
       "      <td>0.005711</td>\n",
       "      <td>0.004568</td>\n",
       "      <td>0.006659</td>\n",
       "      <td>0.000107</td>\n",
       "    </tr>\n",
       "    <tr>\n",
       "      <th>3</th>\n",
       "      <td>0.3</td>\n",
       "      <td>0.976819</td>\n",
       "      <td>0.97633</td>\n",
       "      <td>0.005711</td>\n",
       "      <td>0.004568</td>\n",
       "      <td>0.006659</td>\n",
       "      <td>0.000107</td>\n",
       "    </tr>\n",
       "    <tr>\n",
       "      <th>4</th>\n",
       "      <td>0.4</td>\n",
       "      <td>0.976819</td>\n",
       "      <td>0.97633</td>\n",
       "      <td>0.005711</td>\n",
       "      <td>0.004568</td>\n",
       "      <td>0.006659</td>\n",
       "      <td>0.000107</td>\n",
       "    </tr>\n",
       "  </tbody>\n",
       "</table>\n",
       "</div>"
      ],
      "text/plain": [
       "   time       MO3      MO4       MO6      MO11      MO12      MO14\n",
       "0   0.0  0.976819  0.97633  0.005711  0.004568  0.006659  0.000107\n",
       "1   0.1  0.976819  0.97633  0.005711  0.004568  0.006659  0.000107\n",
       "2   0.2  0.976819  0.97633  0.005711  0.004568  0.006659  0.000107\n",
       "3   0.3  0.976819  0.97633  0.005711  0.004568  0.006659  0.000107\n",
       "4   0.4  0.976819  0.97633  0.005711  0.004568  0.006659  0.000107"
      ]
     },
     "metadata": {},
     "output_type": "display_data"
    },
    {
     "name": "stdout",
     "output_type": "stream",
     "text": [
      "['time' 'MO3' 'MO4' 'MO6' 'MO11' 'MO12' 'MO14']\n"
     ]
    }
   ],
   "source": [
    "# discard all columns with variance below a set threshold - we can consider them as constant\n",
    "df_npop2, indices_npop = check_if_significant(df_npop, threshv)\n",
    "display(df_npop2.head())\n",
    "print(indices_npop)"
   ]
  },
  {
   "cell_type": "markdown",
   "metadata": {},
   "source": [
    "Plot the remaining columns. Seaborn prefers \"long format\" (one column for all measurement values, one column to indicate the type) as input, whereas the cvs is in \"wide format\" (one column per measurement type)."
   ]
  },
  {
   "cell_type": "code",
   "execution_count": 53,
   "metadata": {},
   "outputs": [
    {
     "data": {
      "image/png": "[encoded data removed]",
      "text/plain": [
       "<Figure size 432x288 with 1 Axes>"
      ]
     },
     "metadata": {
      "needs_background": "light"
     },
     "output_type": "display_data"
    }
   ],
   "source": [
    "# plot ideally with seaborn\n",
    "sn.lineplot(x='time', y='value', hue='variable', \n",
    "             data=pd.melt(df_npop2, ['time'])) \n",
    "# Unpivot a DataFrame from wide to long format, optionally leaving identifiers set.\n",
    "plt.show()"
   ]
  },
  {
   "cell_type": "markdown",
   "metadata": {},
   "source": [
    "## Quantify the pairwise correlation in the data\n",
    "\n",
    "- negative correlation: y values decrease for increasing x - large values of one feature correspond to small values of the other feature\n",
    "- weak or no correlation: no trend observable, association between two features is hardly observable\n",
    "- positive correlation: y values increase for decreasing x - small values of one feature correspond to small values of the other feature\n",
    "\n",
    "Remember that correlation does not indicate causation - the reason that two features are associated can lie in their dependence on same factors.\n",
    "\n",
    "Correlate the value pairs using Pearson's $r$. Pearson's $r$ is a measure of the linear relationship between features:\n",
    "\n",
    "$r = \\frac{\\sum_i(x_i − \\bar{x})(y_i − \\bar{y})}{\\sqrt{\\sum_i(x_i − \\bar{x})^2 \\sum_i(y_i − \\bar{y})^2}}$\n",
    "\n",
    "Here, $\\bar{x}$ and $\\bar{y}$ indicate mean values. $i$ runs over the whole data set. For a positive correlation, $r$ is positive, and negative for a negative correlation, with minimum and maximum values of -1 and 1, indicating a perfectly linear relationship. Weakly or not correlated features are characterized by $r$-values close to 0.\n",
    "\n",
    "Other measures of correlation that can be used are Spearman's rank (value pairs follow monotonic function) or Kendall's $\\tau$ (measures ordinal association), but they do not apply here. You can also define measures yourself."
   ]
  },
  {
   "cell_type": "code",
   "execution_count": 54,
   "metadata": {},
   "outputs": [],
   "source": [
    "# print the correlation matrix"
   ]
  },
  {
   "cell_type": "markdown",
   "metadata": {},
   "source": [
    "The diagonal values tell us that each value is perfectly correlated with itself. We are not interested in the diagonal values and also not in the correlation with time. We also need to get rid of redundant entries. Finally, we need to find the value pairs that exhibit the highest linear correlation. We still want to know if it is positive or negative correlation, so we cannot get rid of the sign."
   ]
  },
  {
   "cell_type": "code",
   "execution_count": 55,
   "metadata": {},
   "outputs": [],
   "source": [
    "# get rid of time column, lower triangular and diagonal entries of the correlation matrix\n",
    "# sort the remaing values according to their absolute value, but keep the sign"
   ]
  },
  {
   "cell_type": "markdown",
   "metadata": {},
   "source": [
    "Note that the entries in the left column are not repeated if they do not change from the row above (so the fourth feature pair is MO3 and MO6)."
   ]
  },
  {
   "cell_type": "markdown",
   "metadata": {},
   "source": [
    "### Task 4: Print the resulting data to a file"
   ]
  },
  {
   "cell_type": "code",
   "execution_count": 56,
   "metadata": {},
   "outputs": [],
   "source": [
    "# write to file"
   ]
  },
  {
   "cell_type": "markdown",
   "metadata": {},
   "source": [
    "### Task 5: Calculate the Euclidean distance (L2 norm) for the vectors in `table.dat`\n",
    "\n",
    "\n",
    "The Euclidean distance measures the distance between to objects that are not points:\n",
    "\n",
    "$d(p,q) = \\sqrt{\\left(p-q\\right)^2}$\n",
    "\n",
    "In this case, consider each of the columns in table.dat as a vector in Euclidean space, where column $r(x)$ and column $v(x)$ denote a pair of vectors that should be compared, as well as $r(y)$ and $v(y)$, and r(z) and v(z).\n",
    "\n",
    "(Background: These are dipole moment components in different gauges, the length and velocity gauge.)"
   ]
  },
  {
   "cell_type": "code",
   "execution_count": 57,
   "metadata": {},
   "outputs": [],
   "source": [
    "# read in table.dat - I suggest reading it as a numpy array\n",
    "# replace the NaNs by zero"
   ]
  },
  {
   "cell_type": "markdown",
   "metadata": {},
   "source": [
    "Now calculate how different the vectors in column 2 are from column 3, column 4 from column 5, and column 6 from column 7."
   ]
  },
  {
   "cell_type": "code",
   "execution_count": 58,
   "metadata": {},
   "outputs": [],
   "source": [
    "# calculate the Euclidean distance"
   ]
  },
  {
   "cell_type": "code",
   "execution_count": 59,
   "metadata": {},
   "outputs": [],
   "source": [
    "# plot the result and save to a .pdf"
   ]
  },
  {
   "cell_type": "code",
   "execution_count": 60,
   "metadata": {},
   "outputs": [],
   "source": [
    "# print the result to a file"
   ]
  },
  {
   "cell_type": "markdown",
   "metadata": {},
   "source": [
    "# Numerical analysis\n",
    "\n",
    "**Authors : Aleksandra Kowalczuk**  \n",
    "*Date : March 2022*  \n",
    "*Affiliation : University of Warsaw* \n",
    "\n",
    "Analyze the data using autocorrelation functions and discrete Fourier transforms. Plot your results."
   ]
  },
  {
   "cell_type": "code",
   "execution_count": 125,
   "metadata": {},
   "outputs": [],
   "source": [
    "# define some global functions\n",
    "\n",
    "# constants and global functions\n",
    "# a tuple containing the file names\n",
    "filenames = 'npop.t', 'efield.t', 'expec.t', 'table.dat', 'nstate_i.t'\n",
    "filedir = '../../data/' # if you run using jupyter\n",
    "# filedir = 'data/' # if you run using your IDE\n",
    "# variance threshold\n",
    "threshv = 1.0e-5"
   ]
  },
  {
   "cell_type": "code",
   "execution_count": 126,
   "metadata": {},
   "outputs": [],
   "source": [
    "def read_in_np(filedir, filename):\n",
    "    name = '{}{}'.format(filedir, filename)\n",
    "    print('Reading from file {} - numpy'.format(name))\n",
    "    data = np.loadtxt(name, skiprows=1)\n",
    "    data = data.T\n",
    "    return data"
   ]
  },
  {
   "cell_type": "code",
   "execution_count": 127,
   "metadata": {},
   "outputs": [],
   "source": [
    "def plot_columns(data):\n",
    "    for i in range(1,len(data)):\n",
    "        plt.plot(data[0], data[i])\n",
    "        plt.title('Column {}'.format(i))\n",
    "        plt.show()"
   ]
  },
  {
   "cell_type": "markdown",
   "metadata": {},
   "source": [
    "### Task 1: Read in `efield.t` and Fourier-transform relevant columns"
   ]
  },
  {
   "cell_type": "code",
   "execution_count": 128,
   "metadata": {},
   "outputs": [
    {
     "name": "stdout",
     "output_type": "stream",
     "text": [
      "Reading from file /Users/akko/Desktop/team7-test-repo/data/efield.t - numpy\n"
     ]
    },
    {
     "data": {
      "image/png": "[encoded data removed]",
      "text/plain": [
       "<Figure size 432x288 with 1 Axes>"
      ]
     },
     "metadata": {
      "needs_background": "light"
     },
     "output_type": "display_data"
    },
    {
     "data": {
      "image/png": "[encoded data removed]",
      "text/plain": [
       "<Figure size 432x288 with 1 Axes>"
      ]
     },
     "metadata": {
      "needs_background": "light"
     },
     "output_type": "display_data"
    },
    {
     "data": {
      "image/png": "[encoded data removed]",
      "text/plain": [
       "<Figure size 432x288 with 1 Axes>"
      ]
     },
     "metadata": {
      "needs_background": "light"
     },
     "output_type": "display_data"
    }
   ],
   "source": [
    "# read and plot efield.t\n",
    "efield = read_in_np('/Users/akko/Desktop/team7-test-repo/data/', 'efield.t')\n",
    "plot_columns(efield)"
   ]
  },
  {
   "cell_type": "markdown",
   "metadata": {},
   "source": [
    "Here we are interested in column 2 since the others are constant."
   ]
  },
  {
   "cell_type": "code",
   "execution_count": 129,
   "metadata": {},
   "outputs": [
    {
     "name": "stdout",
     "output_type": "stream",
     "text": [
      "[[ 0.0000000e+00  1.0000000e-01  2.0000000e-01  3.0000000e-01\n",
      "   4.0000000e-01  5.0000000e-01  6.0000000e-01  7.0000000e-01\n",
      "   8.0000000e-01  9.0000000e-01  1.0000000e+00  1.1000000e+00\n",
      "   1.2000000e+00  1.3000000e+00  1.4000000e+00  1.5000000e+00\n",
      "   1.6000000e+00  1.7000000e+00  1.8000000e+00  1.9000000e+00\n",
      "   2.0000000e+00  2.1000000e+00  2.2000000e+00  2.3000000e+00\n",
      "   2.4000000e+00  2.5000000e+00  2.6000000e+00  2.7000000e+00\n",
      "   2.8000000e+00  2.9000000e+00  3.0000000e+00  3.1000000e+00\n",
      "   3.2000000e+00  3.3000000e+00  3.4000000e+00  3.5000000e+00\n",
      "   3.6000000e+00  3.7000000e+00  3.8000000e+00  3.9000000e+00\n",
      "   4.0000000e+00  4.1000000e+00  4.2000000e+00  4.3000000e+00\n",
      "   4.4000000e+00  4.5000000e+00  4.6000000e+00  4.7000000e+00\n",
      "   4.8000000e+00  4.9000000e+00  5.0000000e+00  5.1000000e+00\n",
      "   5.2000000e+00  5.3000000e+00  5.4000000e+00  5.5000000e+00\n",
      "   5.6000000e+00  5.7000000e+00  5.8000000e+00  5.9000000e+00\n",
      "   6.0000000e+00  6.1000000e+00  6.2000000e+00  6.3000000e+00\n",
      "   6.4000000e+00  6.5000000e+00  6.6000000e+00  6.7000000e+00\n",
      "   6.8000000e+00  6.9000000e+00  7.0000000e+00  7.1000000e+00\n",
      "   7.2000000e+00  7.3000000e+00  7.4000000e+00  7.5000000e+00\n",
      "   7.6000000e+00  7.7000000e+00  7.8000000e+00  7.9000000e+00\n",
      "   8.0000000e+00  8.1000000e+00  8.2000000e+00  8.3000000e+00\n",
      "   8.4000000e+00  8.5000000e+00  8.6000000e+00  8.7000000e+00\n",
      "   8.8000000e+00  8.9000000e+00  9.0000000e+00  9.1000000e+00\n",
      "   9.2000000e+00  9.3000000e+00  9.4000000e+00  9.5000000e+00\n",
      "   9.6000000e+00  9.7000000e+00  9.8000000e+00  9.9000000e+00\n",
      "   1.0000000e+01]\n",
      " [ 0.0000000e+00  0.0000000e+00  0.0000000e+00  0.0000000e+00\n",
      "   0.0000000e+00  0.0000000e+00  0.0000000e+00  0.0000000e+00\n",
      "   0.0000000e+00 -0.0000000e+00 -3.4723600e-04 -2.0957940e-03\n",
      "  -4.1337070e-03 -3.0513230e-03  3.7372540e-03  1.4462925e-02\n",
      "   2.2409124e-02  1.9647090e-02  3.0571240e-03 -2.1693145e-02\n",
      "  -4.1740382e-02 -4.4090284e-02 -2.4044045e-02  1.0610180e-02\n",
      "   4.2906291e-02  5.6000000e-02  4.2906291e-02  1.0610180e-02\n",
      "  -2.4044045e-02 -4.4090284e-02 -4.1740382e-02 -2.1693145e-02\n",
      "   3.0571240e-03  1.9647090e-02  2.2409124e-02  1.4462925e-02\n",
      "   3.7372540e-03 -3.0513230e-03 -4.1337070e-03 -2.0957940e-03\n",
      "  -3.4723600e-04 -0.0000000e+00  0.0000000e+00  0.0000000e+00\n",
      "   0.0000000e+00  0.0000000e+00  0.0000000e+00  0.0000000e+00\n",
      "   0.0000000e+00  0.0000000e+00  0.0000000e+00  0.0000000e+00\n",
      "   0.0000000e+00  0.0000000e+00  0.0000000e+00  0.0000000e+00\n",
      "   0.0000000e+00  0.0000000e+00  0.0000000e+00  0.0000000e+00\n",
      "   0.0000000e+00  0.0000000e+00  0.0000000e+00  0.0000000e+00\n",
      "   0.0000000e+00  0.0000000e+00  0.0000000e+00  0.0000000e+00\n",
      "   0.0000000e+00  0.0000000e+00  0.0000000e+00  0.0000000e+00\n",
      "   0.0000000e+00  0.0000000e+00  0.0000000e+00  0.0000000e+00\n",
      "   0.0000000e+00  0.0000000e+00  0.0000000e+00  0.0000000e+00\n",
      "   0.0000000e+00  0.0000000e+00  0.0000000e+00  0.0000000e+00\n",
      "   0.0000000e+00  0.0000000e+00  0.0000000e+00  0.0000000e+00\n",
      "   0.0000000e+00  0.0000000e+00  0.0000000e+00  0.0000000e+00\n",
      "   0.0000000e+00  0.0000000e+00  0.0000000e+00  0.0000000e+00\n",
      "   0.0000000e+00  0.0000000e+00  0.0000000e+00  0.0000000e+00\n",
      "   0.0000000e+00]]\n"
     ]
    }
   ],
   "source": [
    "# discard the columns with variance below threshold - these are considered constant\n",
    "\n",
    "#print(np.var(efield)) # var computed for the overall, flattened array\n",
    "#print(np.var(efield, axis=1)) # var computed for each column (row-major order)\n",
    "#print(np.nonzero(np.var(efield, axis=1) > threshv)) # returns the indices of values for which condition applies\n",
    "print(efield[np.nonzero(np.var(efield, axis=1) > threshv)]) # get the numpy array for those indices"
   ]
  },
  {
   "cell_type": "code",
   "execution_count": 130,
   "metadata": {},
   "outputs": [],
   "source": [
    "# discrete Fourier transform of the remaining column: You only need the real frequencies\n",
    "\n",
    "def check_if_significant_np(data, thresh):\n",
    "    indices = np.nonzero(np.var(efield, axis=1) > thresh)\n",
    "    data_out = data[indices]\n",
    "    return data_out, indices"
   ]
  },
  {
   "cell_type": "code",
   "execution_count": 131,
   "metadata": {},
   "outputs": [
    {
     "data": {
      "image/png": "[encoded data removed]",
      "text/plain": [
       "<Figure size 432x288 with 1 Axes>"
      ]
     },
     "metadata": {
      "needs_background": "light"
     },
     "output_type": "display_data"
    }
   ],
   "source": [
    "efield2, indices = check_if_significant_np(efield, threshv)\n",
    "plot_columns(efield2)"
   ]
  },
  {
   "cell_type": "code",
   "execution_count": 132,
   "metadata": {},
   "outputs": [],
   "source": [
    "# do the FT\n",
    "def do_DFT(data, tmax):\n",
    "    data_s = np.fft.rfft(data)\n",
    "    data_w = np.fft.rfftfreq(tmax)\n",
    "    return data_s, data_w"
   ]
  },
  {
   "cell_type": "code",
   "execution_count": 133,
   "metadata": {},
   "outputs": [
    {
     "name": "stdout",
     "output_type": "stream",
     "text": [
      "101\n"
     ]
    },
    {
     "data": {
      "image/png": "[encoded data removed]",
      "text/plain": [
       "<Figure size 432x288 with 1 Axes>"
      ]
     },
     "metadata": {
      "needs_background": "light"
     },
     "output_type": "display_data"
    }
   ],
   "source": [
    "print(len(efield2[0]))\n",
    "efield_s, frequency = do_DFT(efield2[1], len(efield2[0]))\n",
    "plt.plot(frequency, abs(efield_s)**2) # the frequency of this laser pulse was 0.116\n",
    "plt.show()"
   ]
  },
  {
   "cell_type": "code",
   "execution_count": 134,
   "metadata": {},
   "outputs": [
    {
     "data": {
      "text/plain": [
       "array([ 7.26814400e-03+0.00000000e+00j,  6.46259906e-05-4.15502549e-03j,\n",
       "        3.76586260e-03+1.17174487e-04j,  5.50969094e-04-1.18002764e-02j,\n",
       "       -1.15083814e-02-7.16858592e-04j,  6.24998929e-04-8.02110389e-03j,\n",
       "       -5.61568135e-02-5.25551567e-03j, -1.47626228e-02+1.35066131e-01j,\n",
       "        2.35411148e-01+2.94418189e-02j,  4.74200878e-02-3.36567401e-01j,\n",
       "       -4.12515967e-01-6.46786150e-02j, -7.62597723e-02+4.41406037e-01j,\n",
       "        4.14420738e-01+7.82536930e-02j,  6.96021358e-02-3.39551767e-01j,\n",
       "       -2.38341438e-01-5.27310080e-02j, -3.26021035e-02+1.37206844e-01j,\n",
       "        5.75868428e-02+1.46331401e-02j,  2.54993131e-03-9.41874876e-03j,\n",
       "        9.63417709e-03+2.76976414e-03j,  3.00559657e-03-9.87356422e-03j,\n",
       "       -3.15752294e-03-1.01509401e-03j,  7.51596262e-04-2.21885403e-03j,\n",
       "       -3.37102284e-03-1.20062980e-03j, -5.75245238e-04+1.53896863e-03j,\n",
       "       -6.55180982e-04-2.56579787e-04j, -6.08138560e-04+1.48447532e-03j,\n",
       "        8.78082747e-04+3.75772128e-04j, -8.20923275e-05+1.83869084e-04j,\n",
       "        7.45320614e-04+3.46765023e-04j,  2.64961919e-04-5.47086382e-04j,\n",
       "        1.84330990e-05+9.28405729e-06j,  2.11239955e-04-4.03656933e-04j,\n",
       "       -3.61006162e-04-1.96131532e-04j, -2.37370861e-05+4.21163305e-05j,\n",
       "       -2.28576887e-04-1.33553652e-04j, -1.50501379e-04+2.48623652e-04j,\n",
       "        6.27385684e-05+3.93241108e-05j, -8.59015672e-05+1.32427061e-04j,\n",
       "        1.77612958e-04+1.19177283e-04j,  4.70154908e-05-6.77662987e-05j,\n",
       "        7.68623547e-05+5.51164856e-05j,  9.74539653e-05-1.31535022e-04j,\n",
       "       -6.72788941e-05-5.14865127e-05j,  3.41726144e-05-4.32439104e-05j,\n",
       "       -1.01293431e-04-8.26362272e-05j, -5.54013707e-05+6.57935503e-05j,\n",
       "       -2.16798290e-05-1.88394114e-05j, -7.30714725e-05+8.14932993e-05j,\n",
       "        6.55122537e-05+6.06061590e-05j, -6.14625692e-06+6.43992903e-06j,\n",
       "        6.87068582e-05+6.76465230e-05j])"
      ]
     },
     "execution_count": 134,
     "metadata": {},
     "output_type": "execute_result"
    }
   ],
   "source": [
    "efield_s"
   ]
  },
  {
   "cell_type": "markdown",
   "metadata": {},
   "source": [
    "### Task 2: Generate a plot of your results to be saved as pdf."
   ]
  },
  {
   "cell_type": "code",
   "execution_count": 135,
   "metadata": {},
   "outputs": [
    {
     "data": {
      "image/png": "[encoded data removed]",
      "text/plain": [
       "<Figure size 432x288 with 1 Axes>"
      ]
     },
     "metadata": {
      "needs_background": "light"
     },
     "output_type": "display_data"
    }
   ],
   "source": [
    "# plot your results\n",
    "f2=plt.plot(frequency, abs(efield_s)**2)\n",
    "plt.savefig('plot0.pdf') \n",
    "plt.show()\n"
   ]
  },
  {
   "cell_type": "markdown",
   "metadata": {},
   "source": [
    "### Task 3: Calculate the autocorrelation function from nstate_i.t\n",
    "The autocorrelation function measures how correlated subsequent vectors are with an initial vector; ie. \n",
    "\n",
    "$\\Psi_{corr} = \\langle \\Psi(t=0) | \\Psi(t) \\rangle = \\int_0^{tfin} \\Psi(0)^* \\Psi(t) dt$\n",
    "\n",
    "Since we are in a numerical representation, the integral can be replaced with a sum; and the given vectors are already normalized."
   ]
  },
  {
   "cell_type": "code",
   "execution_count": 136,
   "metadata": {},
   "outputs": [
    {
     "name": "stdout",
     "output_type": "stream",
     "text": [
      "Reading from file /Users/akko/Desktop/team7-test-repo/data/nstate_i.t - numpy\n"
     ]
    }
   ],
   "source": [
    "# read in as numpy array\n",
    "\n",
    "wavef = read_in_np('/Users/akko/Desktop/team7-test-repo/data/', 'nstate_i.t')"
   ]
  },
  {
   "cell_type": "code",
   "execution_count": 137,
   "metadata": {},
   "outputs": [
    {
     "name": "stdout",
     "output_type": "stream",
     "text": [
      "[1.         1.         1.         1.         1.         1.\n",
      " 1.         1.         1.         1.         0.99999973 0.9999657\n",
      " 0.9996267  0.99887235 0.99886416 0.99851417 0.98886507 0.96490701\n",
      " 0.94811865 0.95858278 0.97010072 0.96379549 0.94208017 0.93617647\n",
      " 0.96507161 0.94829732 0.84230846 0.760883   0.78276781 0.83564055\n",
      " 0.87239418 0.89022786 0.88958878 0.89832631 0.90241543 0.88877462\n",
      " 0.87652708 0.87718167 0.88294869 0.88740708 0.88883677 0.88892986\n",
      " 0.88892986 0.88892986 0.88892986 0.88892986 0.88892986 0.88892986\n",
      " 0.88892986 0.88892986 0.88892986 0.88892986 0.88892986 0.88892986\n",
      " 0.88892986 0.88892986 0.88892986 0.88892986 0.88892986 0.88892986\n",
      " 0.88892986 0.88892986 0.88892986 0.88892986 0.88892986 0.88892986\n",
      " 0.88892986 0.88892986 0.88892986 0.88892986 0.88892986 0.88892986\n",
      " 0.88892986 0.88892986 0.88892986 0.88892986 0.88892986 0.88892986\n",
      " 0.88892986 0.88892986 0.88892986 0.88892986 0.88892986 0.88892986\n",
      " 0.88892986 0.88892986 0.88892986 0.88892986 0.88892986 0.88892986\n",
      " 0.88892986 0.88892986 0.88892986 0.88892986 0.88892986 0.88892986\n",
      " 0.88892986 0.88892986 0.88892986 0.88892986 0.88892986]\n"
     ]
    }
   ],
   "source": [
    "# store the time column (column 0) in a vector and drop from array\n",
    "\n",
    "time = wavef[0]\n",
    "wavef = np.delete(wavef,[0],axis=0)\n",
    "print(wavef[0])"
   ]
  },
  {
   "cell_type": "code",
   "execution_count": 138,
   "metadata": {},
   "outputs": [
    {
     "name": "stdout",
     "output_type": "stream",
     "text": [
      "[1.        +0.j         1.        +0.j         1.        +0.j\n",
      " 1.        +0.j         1.        +0.j         1.        +0.j\n",
      " 1.        +0.j         1.        +0.j         1.        +0.j\n",
      " 1.        +0.j         0.99999973-0.00054248j 0.9999657 -0.00651014j\n",
      " 0.9996267 -0.02301388j 0.99887235-0.04250559j 0.99886416-0.04147828j\n",
      " 0.99851417+0.00689117j 0.98886507+0.10829426j 0.96490701+0.22436313j\n",
      " 0.94811865+0.28455717j 0.95858278+0.23359952j 0.97010072+0.08263606j\n",
      " 0.96379549-0.10143906j 0.94208017-0.25052838j 0.93617647-0.27548012j\n",
      " 0.96507161-0.12853779j 0.94829732+0.13973008j 0.84230846+0.38357802j\n",
      " 0.760883  +0.49748999j 0.78276781+0.45800143j 0.83564055+0.30640444j\n",
      " 0.87239418+0.14084412j 0.89022786+0.00948782j 0.88958878-0.02747679j\n",
      " 0.89832631+0.03331808j 0.90241543+0.12709124j 0.88877462+0.1997105j\n",
      " 0.87652708+0.23329815j 0.87718167+0.23117891j 0.88294869+0.21365903j\n",
      " 0.88740708+0.19982199j 0.88883677+0.19502591j 0.88892986+0.19466015j\n",
      " 0.88892986+0.19466015j 0.88892986+0.19466015j 0.88892986+0.19466015j\n",
      " 0.88892986+0.19466015j 0.88892986+0.19466015j 0.88892986+0.19466015j\n",
      " 0.88892986+0.19466015j 0.88892986+0.19466015j 0.88892986+0.19466015j\n",
      " 0.88892986+0.19466015j 0.88892986+0.19466015j 0.88892986+0.19466015j\n",
      " 0.88892986+0.19466015j 0.88892986+0.19466015j 0.88892986+0.19466015j\n",
      " 0.88892986+0.19466015j 0.88892986+0.19466015j 0.88892986+0.19466015j\n",
      " 0.88892986+0.19466015j 0.88892986+0.19466015j 0.88892986+0.19466015j\n",
      " 0.88892986+0.19466015j 0.88892986+0.19466015j 0.88892986+0.19466015j\n",
      " 0.88892986+0.19466015j 0.88892986+0.19466015j 0.88892986+0.19466015j\n",
      " 0.88892986+0.19466015j 0.88892986+0.19466015j 0.88892986+0.19466015j\n",
      " 0.88892986+0.19466015j 0.88892986+0.19466015j 0.88892986+0.19466015j\n",
      " 0.88892986+0.19466015j 0.88892986+0.19466015j 0.88892986+0.19466015j\n",
      " 0.88892986+0.19466015j 0.88892986+0.19466015j 0.88892986+0.19466015j\n",
      " 0.88892986+0.19466015j 0.88892986+0.19466015j 0.88892986+0.19466015j\n",
      " 0.88892986+0.19466015j 0.88892986+0.19466015j 0.88892986+0.19466015j\n",
      " 0.88892986+0.19466015j 0.88892986+0.19466015j 0.88892986+0.19466015j\n",
      " 0.88892986+0.19466015j 0.88892986+0.19466015j 0.88892986+0.19466015j\n",
      " 0.88892986+0.19466015j 0.88892986+0.19466015j 0.88892986+0.19466015j\n",
      " 0.88892986+0.19466015j 0.88892986+0.19466015j 0.88892986+0.19466015j\n",
      " 0.88892986+0.19466015j 0.88892986+0.19466015j]\n",
      "[1.         1.         1.         1.         1.         1.\n",
      " 1.         1.         1.         1.         0.99999973 0.9999657\n",
      " 0.9996267  0.99887235 0.99886416 0.99851417 0.98886507 0.96490701\n",
      " 0.94811865 0.95858278 0.97010072 0.96379549 0.94208017 0.93617647\n",
      " 0.96507161 0.94829732 0.84230846 0.760883   0.78276781 0.83564055\n",
      " 0.87239418 0.89022786 0.88958878 0.89832631 0.90241543 0.88877462\n",
      " 0.87652708 0.87718167 0.88294869 0.88740708 0.88883677 0.88892986\n",
      " 0.88892986 0.88892986 0.88892986 0.88892986 0.88892986 0.88892986\n",
      " 0.88892986 0.88892986 0.88892986 0.88892986 0.88892986 0.88892986\n",
      " 0.88892986 0.88892986 0.88892986 0.88892986 0.88892986 0.88892986\n",
      " 0.88892986 0.88892986 0.88892986 0.88892986 0.88892986 0.88892986\n",
      " 0.88892986 0.88892986 0.88892986 0.88892986 0.88892986 0.88892986\n",
      " 0.88892986 0.88892986 0.88892986 0.88892986 0.88892986 0.88892986\n",
      " 0.88892986 0.88892986 0.88892986 0.88892986 0.88892986 0.88892986\n",
      " 0.88892986 0.88892986 0.88892986 0.88892986 0.88892986 0.88892986\n",
      " 0.88892986 0.88892986 0.88892986 0.88892986 0.88892986 0.88892986\n",
      " 0.88892986 0.88892986 0.88892986 0.88892986 0.88892986]\n",
      "[ 0.         -0.         -0.         -0.         -0.         -0.\n",
      " -0.         -0.         -0.         -0.         -0.00054248 -0.00651014\n",
      " -0.02301388 -0.04250559 -0.04147828  0.00689117  0.10829426  0.22436313\n",
      "  0.28455717  0.23359952  0.08263606 -0.10143906 -0.25052838 -0.27548012\n",
      " -0.12853779  0.13973008  0.38357802  0.49748999  0.45800143  0.30640444\n",
      "  0.14084412  0.00948782 -0.02747679  0.03331808  0.12709124  0.1997105\n",
      "  0.23329815  0.23117891  0.21365903  0.19982199  0.19502591  0.19466015\n",
      "  0.19466015  0.19466015  0.19466015  0.19466015  0.19466015  0.19466015\n",
      "  0.19466015  0.19466015  0.19466015  0.19466015  0.19466015  0.19466015\n",
      "  0.19466015  0.19466015  0.19466015  0.19466015  0.19466015  0.19466015\n",
      "  0.19466015  0.19466015  0.19466015  0.19466015  0.19466015  0.19466015\n",
      "  0.19466015  0.19466015  0.19466015  0.19466015  0.19466015  0.19466015\n",
      "  0.19466015  0.19466015  0.19466015  0.19466015  0.19466015  0.19466015\n",
      "  0.19466015  0.19466015  0.19466015  0.19466015  0.19466015  0.19466015\n",
      "  0.19466015  0.19466015  0.19466015  0.19466015  0.19466015  0.19466015\n",
      "  0.19466015  0.19466015  0.19466015  0.19466015  0.19466015  0.19466015\n",
      "  0.19466015  0.19466015  0.19466015  0.19466015  0.19466015]\n"
     ]
    }
   ],
   "source": [
    "# correct the data representation: this is in fact a complex matrix\n",
    "# the real part of each matrix column is contained in numpy array column 0, 2, 4, 6, ...\n",
    "# the imaginary part of each matrix column is contained in numpy array column 1, 3, 5, 7, ...\n",
    "# convert the array that was read as dtype=float into a dtype=complex array\n",
    "\n",
    "# convert to complex array\n",
    "realpart = wavef[0::2]\n",
    "imagpart = wavef[1::2]\n",
    "wavefc = realpart + 1j*imagpart\n",
    "print(wavefc[0])\n",
    "print(realpart[0])\n",
    "print(imagpart[0])"
   ]
  },
  {
   "cell_type": "code",
   "execution_count": 139,
   "metadata": {},
   "outputs": [],
   "source": [
    "# for the autocorrelation function, we want the overlap between the first vector at time 0 and all \n",
    "# subsequent vectors at later times - the sum of the product of initial and subsequent vectors for each time step\n",
    "\n",
    "# Now construct overlap between first vector and all others\n",
    "def calc_auto(wavef):\n",
    "    aucofu = np.zeros(len(wavef[0]),dtype = complex)\n",
    "    for i in range(0,len(wavef[0])):\n",
    "        aucofu[i] = np.sum(wavef[:,0]*np.conjugate(wavef[:,i]))\n",
    "    return aucofu\n"
   ]
  },
  {
   "cell_type": "code",
   "execution_count": 140,
   "metadata": {},
   "outputs": [
    {
     "name": "stdout",
     "output_type": "stream",
     "text": [
      "[1.        +0.j         1.        +0.j         1.        +0.j\n",
      " 1.        +0.j         1.        +0.j         1.        +0.j\n",
      " 1.        +0.j         1.        +0.j         1.        +0.j\n",
      " 1.        +0.j         0.99999973+0.00054248j 0.9999657 +0.00651014j\n",
      " 0.9996267 +0.02301388j 0.99887235+0.04250559j 0.99886416+0.04147828j\n",
      " 0.99851417-0.00689117j 0.98886507-0.10829426j 0.96490701-0.22436313j\n",
      " 0.94811865-0.28455717j 0.95858278-0.23359952j 0.97010072-0.08263606j\n",
      " 0.96379549+0.10143906j 0.94208017+0.25052838j 0.93617647+0.27548012j\n",
      " 0.96507161+0.12853779j 0.94829732-0.13973008j 0.84230846-0.38357802j\n",
      " 0.760883  -0.49748999j 0.78276781-0.45800143j 0.83564055-0.30640444j\n",
      " 0.87239418-0.14084412j 0.89022786-0.00948782j 0.88958878+0.02747679j\n",
      " 0.89832631-0.03331808j 0.90241543-0.12709124j 0.88877462-0.1997105j\n",
      " 0.87652708-0.23329815j 0.87718167-0.23117891j 0.88294869-0.21365903j\n",
      " 0.88740708-0.19982199j 0.88883677-0.19502591j 0.88892986-0.19466015j\n",
      " 0.88892986-0.19466015j 0.88892986-0.19466015j 0.88892986-0.19466015j\n",
      " 0.88892986-0.19466015j 0.88892986-0.19466015j 0.88892986-0.19466015j\n",
      " 0.88892986-0.19466015j 0.88892986-0.19466015j 0.88892986-0.19466015j\n",
      " 0.88892986-0.19466015j 0.88892986-0.19466015j 0.88892986-0.19466015j\n",
      " 0.88892986-0.19466015j 0.88892986-0.19466015j 0.88892986-0.19466015j\n",
      " 0.88892986-0.19466015j 0.88892986-0.19466015j 0.88892986-0.19466015j\n",
      " 0.88892986-0.19466015j 0.88892986-0.19466015j 0.88892986-0.19466015j\n",
      " 0.88892986-0.19466015j 0.88892986-0.19466015j 0.88892986-0.19466015j\n",
      " 0.88892986-0.19466015j 0.88892986-0.19466015j 0.88892986-0.19466015j\n",
      " 0.88892986-0.19466015j 0.88892986-0.19466015j 0.88892986-0.19466015j\n",
      " 0.88892986-0.19466015j 0.88892986-0.19466015j 0.88892986-0.19466015j\n",
      " 0.88892986-0.19466015j 0.88892986-0.19466015j 0.88892986-0.19466015j\n",
      " 0.88892986-0.19466015j 0.88892986-0.19466015j 0.88892986-0.19466015j\n",
      " 0.88892986-0.19466015j 0.88892986-0.19466015j 0.88892986-0.19466015j\n",
      " 0.88892986-0.19466015j 0.88892986-0.19466015j 0.88892986-0.19466015j\n",
      " 0.88892986-0.19466015j 0.88892986-0.19466015j 0.88892986-0.19466015j\n",
      " 0.88892986-0.19466015j 0.88892986-0.19466015j 0.88892986-0.19466015j\n",
      " 0.88892986-0.19466015j 0.88892986-0.19466015j 0.88892986-0.19466015j\n",
      " 0.88892986-0.19466015j 0.88892986-0.19466015j 0.88892986-0.19466015j\n",
      " 0.88892986-0.19466015j 0.88892986-0.19466015j]\n"
     ]
    },
    {
     "data": {
      "image/png": "[encoded data removed]",
      "text/plain": [
       "<Figure size 432x288 with 1 Axes>"
      ]
     },
     "metadata": {
      "needs_background": "light"
     },
     "output_type": "display_data"
    }
   ],
   "source": [
    "aucofu = calc_auto(wavefc)\n",
    "print(aucofu)\n",
    "plt.plot(abs(aucofu**2))\n",
    "plt.savefig('plot1.pdf')\n",
    "plt.show()"
   ]
  },
  {
   "cell_type": "markdown",
   "metadata": {},
   "source": [
    "### Task 4: Generate a plot of your results to be saved as pdf."
   ]
  },
  {
   "cell_type": "code",
   "execution_count": 141,
   "metadata": {},
   "outputs": [
    {
     "data": {
      "image/png": "[encoded data removed]",
      "text/plain": [
       "<Figure size 1080x288 with 3 Axes>"
      ]
     },
     "metadata": {
      "needs_background": "light"
     },
     "output_type": "display_data"
    }
   ],
   "source": [
    "# plot the autocorrelation function - real, imaginary and absolute part\n",
    "\n",
    "# plot the autocorrelation function - real, imaginary and absolute part\n",
    "\n",
    "fig, ax = plt.subplots(1,3,figsize=(15,4))\n",
    "ax[0].plot(np.real(aucofu))\n",
    "ax[1].plot(np.imag(aucofu))\n",
    "ax[2].plot(abs(aucofu**2))\n",
    "\n",
    "ax[0].set_ylabel('Real Part')\n",
    "ax[1].set_ylabel('Imaginary Part')\n",
    "ax[2].set_ylabel('Absolute Part')\n",
    "\n",
    "for i in range(3):\n",
    "    ax[i].set_xlabel('Time')\n",
    "plt.savefig('plot2.pdf')    \n",
    "plt.show()"
   ]
  },
  {
   "cell_type": "markdown",
   "metadata": {},
   "source": [
    "### Task 5: Discrete Fourier transform of the autocorrelation function"
   ]
  },
  {
   "cell_type": "code",
   "execution_count": 142,
   "metadata": {},
   "outputs": [
    {
     "name": "stdout",
     "output_type": "stream",
     "text": [
      "[0.         0.00990099 0.01980198 0.02970297 0.03960396 0.04950495\n",
      " 0.05940594 0.06930693 0.07920792 0.08910891 0.0990099  0.10891089\n",
      " 0.11881188 0.12871287 0.13861386 0.14851485 0.15841584 0.16831683\n",
      " 0.17821782 0.18811881 0.1980198  0.20792079 0.21782178 0.22772277\n",
      " 0.23762376 0.24752475 0.25742574 0.26732673 0.27722772 0.28712871\n",
      " 0.2970297  0.30693069 0.31683168 0.32673267 0.33663366 0.34653465\n",
      " 0.35643564 0.36633663 0.37623762 0.38613861 0.3960396  0.40594059\n",
      " 0.41584158 0.42574257 0.43564356 0.44554455 0.45544554 0.46534653\n",
      " 0.47524752 0.48514851]\n"
     ]
    }
   ],
   "source": [
    "# discrete Fourier-transform the autocorrelation function - now we need all frequency components, \n",
    "# also the negative ones\n",
    "\n",
    "# now do the FT\n",
    "# do the FT - see https://numpy.org/doc/stable/reference/routines.fft.html\n",
    "def do_fft(data,tmax):\n",
    "    data_s = np.fft.fft(data)\n",
    "    data_w = np.fft.fftfreq(tmax)\n",
    "    # only take the positive frequency components\n",
    "    return data_w[0:tmax//2], data_s[0:tmax//2] \n",
    "\n",
    "energy, spec = do_fft(aucofu,len(time))\n",
    "print(energy)"
   ]
  },
  {
   "cell_type": "markdown",
   "metadata": {},
   "source": [
    "### Task 6: Generate a plot of your results to be saved as pdf."
   ]
  },
  {
   "cell_type": "code",
   "execution_count": 143,
   "metadata": {},
   "outputs": [
    {
     "data": {
      "image/png": "[encoded data removed]",
      "text/plain": [
       "<Figure size 432x288 with 1 Axes>"
      ]
     },
     "metadata": {
      "needs_background": "light"
     },
     "output_type": "display_data"
    }
   ],
   "source": [
    "# plot the power spectrum (abs**2)\n",
    "\n",
    "#plt.plot(energy,real(spec))\n",
    "#plt.plot(energy,imag(spec))\n",
    "#plt.plot(energy,abs(spec))\n",
    "plt.plot(energy,abs(spec)**2)\n",
    "plt.ylim(-0.1,15)\n",
    "plt.savefig('plot3.pdf')"
   ]
  },
  {
   "cell_type": "code",
   "execution_count": null,
   "metadata": {},
   "outputs": [],
   "source": []
  }
 ],
 "metadata": {
  "kernelspec": {
   "display_name": "Python 3",
   "language": "python",
   "name": "python3"
  },
  "language_info": {
   "codemirror_mode": {
    "name": "ipython",
    "version": 3
   },
   "file_extension": ".py",
   "mimetype": "text/x-python",
   "name": "python",
   "nbconvert_exporter": "python",
   "pygments_lexer": "ipython3",
   "version": "3.8.5"
  }
 },
 "nbformat": 4,
 "nbformat_minor": 4
}
