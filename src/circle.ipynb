{
 "cells": [
  {
   "cell_type": "markdown",
   "id": "8248ef81",
   "metadata": {},
   "source": [
    "# Sample notebook for unit 1\n",
    "*Inga Ulusoy, SSC*"
   ]
  },
  {
   "cell_type": "code",
   "execution_count": null,
   "id": "6cc2c897",
   "metadata": {},
   "outputs": [],
   "source": [
    "import numpy as np\n",
    "import matplotlib.pyplot as plt"
   ]
  },
  {
   "cell_type": "code",
   "execution_count": null,
   "id": "b96c2c7a",
   "metadata": {},
   "outputs": [],
   "source": [
    "A=5*10"
   ]
  },
  {
   "cell_type": "code",
   "execution_count": null,
   "id": "931f5cb7",
   "metadata": {},
   "outputs": [],
   "source": [
    "print(A)"
   ]
  },
  {
   "cell_type": "code",
   "execution_count": null,
   "id": "a48b61b4",
   "metadata": {},
   "outputs": [],
   "source": [
    "def area_circ(r_in):\n",
    "    \"\"\"Calculates the area of a circle with given radius.\n",
    "\n",
    "    :Input: The radius of the circle (float, >=0).\n",
    "    :Returns: The area of the circle (float).\"\"\"\n",
    "    if r_in < 0:\n",
    "        raise ValueError(\"The radius must be >= 0.\")\n",
    "    area_out = np.pi * r_in**2\n",
    "    return area_out"
   ]
  },
  {
   "cell_type": "code",
   "execution_count": null,
   "id": "33dd0310",
   "metadata": {},
   "outputs": [],
   "source": [
    "A = area_circ(5)"
   ]
  },
  {
   "cell_type": "code",
   "execution_count": null,
   "id": "10538c3b",
   "metadata": {},
   "outputs": [],
   "source": [
    "print(A)"
   ]
  },
  {
   "cell_type": "code",
   "execution_count": null,
   "id": "4758f2be",
   "metadata": {},
   "outputs": [],
   "source": [
    "r = np.arange(0.1,5.1,0.1)"
   ]
  },
  {
   "cell_type": "code",
   "execution_count": null,
   "id": "3184be93",
   "metadata": {},
   "outputs": [],
   "source": [
    "print(r)"
   ]
  },
  {
   "cell_type": "code",
   "execution_count": null,
   "id": "e4e3f5ea",
   "metadata": {},
   "outputs": [],
   "source": [
    "A = []\n",
    "for i in r:\n",
    "    A.append(area_circ(i))"
   ]
  },
  {
   "cell_type": "code",
   "execution_count": null,
   "id": "7eebe197",
   "metadata": {},
   "outputs": [],
   "source": [
    "plt.plot(r,A)\n",
    "plt.show()"
   ]
  },
  {
   "cell_type": "code",
   "execution_count": null,
   "id": "1aa2ae1a",
   "metadata": {},
   "outputs": [],
   "source": []
  }
 ],
 "metadata": {
  "kernelspec": {
   "display_name": "Python 3",
   "language": "python",
   "name": "python3"
  },
  "language_info": {
   "codemirror_mode": {
    "name": "ipython",
    "version": 3
   },
   "file_extension": ".py",
   "mimetype": "text/x-python",
   "name": "python",
   "nbconvert_exporter": "python",
   "pygments_lexer": "ipython3",
   "version": "3.7.6"
  }
 },
 "nbformat": 4,
 "nbformat_minor": 5
}
